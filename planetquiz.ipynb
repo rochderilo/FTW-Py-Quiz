{
  "nbformat": 4,
  "nbformat_minor": 0,
  "metadata": {
    "colab": {
      "name": "planetquiz.ipynb",
      "provenance": []
    },
    "kernelspec": {
      "name": "python3",
      "display_name": "Python 3"
    }
  },
  "cells": [
    {
      "cell_type": "markdown",
      "metadata": {
        "id": "G15y1XsfLai2"
      },
      "source": [
        "This is a block of text."
      ]
    },
    {
      "cell_type": "code",
      "metadata": {
        "id": "jnnbEEUrMlTT"
      },
      "source": [
        "nus"
      ],
      "execution_count": null,
      "outputs": []
    },
    {
      "cell_type": "code",
      "metadata": {
        "id": "IB-5oEz8Kw-j",
        "outputId": "0b8013bd-d189-4b0c-fc60-d533da657b40",
        "colab": {
          "base_uri": "https://localhost:8080/",
          "height": 646
        }
      },
      "source": [
        "\"\"\"\n",
        "Solar System Quiz 2020\n",
        "By Roch Derilo\n",
        "\"\"\"\n",
        "# Define variables\n",
        "name = \"\"\n",
        "score = 0\n",
        "\n",
        "while name == \"\":\n",
        "    name_input = input(\"What is your name? \")\n",
        "    name = str(name_input.title())\n",
        "else:\n",
        "    print(\"Welcome to Solar System Quiz 2020, \" + name + \". Let's get started!\")\n",
        "\n",
        "\n",
        "# Questions\n",
        "questions = {\n",
        "\"red planet\" : \"mars\",\n",
        "\"closest star to us\" : \"sun\",\n",
        "\"planet closest to the sun\" : \"mercury\",\n",
        "\"largest planet\" : \"jupiter\",\n",
        "\"planet with beautiful rings\" : \"saturn\",\n",
        "\"planet full of methane\" : \"uranus\",\n",
        "\"twin planet of Uranus\" : \"neptune\",\n",
        "\"planet with recently discovered phosphine gas\" : \"venus\",\n",
        "\"dwarf planet that was once thought of as a planet\" : \"pluto\",\n",
        "\"only planet with confirmed life\" : \"earth\"        \n",
        "}\n",
        "\n",
        "# Iterate through the dictionary\n",
        "for item in questions:\n",
        "    print(\"Question: What is the \" + item + \"?\")\n",
        "    answer = input()\n",
        "    answer = answer.lower()\n",
        "    if answer == questions[item]:\n",
        "        print(\"Your answer is correct!\")\n",
        "        score = score + 1\n",
        "    else:\n",
        "        print(\"Your answer is incorrect.\")\n",
        "        \n",
        "# End score\n",
        "if score >= 7 :\n",
        "    print(\"Congratulations, \" + name + \"!. You got \" + str(score) + \" out of 10.\\nYou passed the quiz!\")\n",
        "else:\n",
        "    print(\"Unfortunately, \" + name + \", you only got \" + str(score) + \" out of 10.\\nYou failed the quiz.\")\n",
        "    \n",
        "# Ending\n",
        "print(\"\\n\\nThanks for taking the Solar System quiz. See you next time!\")\n"
      ],
      "execution_count": 1,
      "outputs": [
        {
          "output_type": "stream",
          "text": [
            "What is your name? Player\n",
            "Welcome to Solar System Quiz 2020, Player. Let's get started!\n",
            "Question: What is the red planet?\n",
            "mars\n",
            "Your answer is correct!\n",
            "Question: What is the closest star to us?\n",
            "sun\n",
            "Your answer is correct!\n",
            "Question: What is the planet closest to the sun?\n",
            "mercury\n",
            "Your answer is correct!\n",
            "Question: What is the largest planet?\n",
            "jupiter\n",
            "Your answer is correct!\n",
            "Question: What is the planet with beautiful rings?\n",
            "saturn\n",
            "Your answer is correct!\n",
            "Question: What is the planet full of methane?\n",
            "uranus\n",
            "Your answer is correct!\n",
            "Question: What is the twin planet of Uranus?\n",
            "neptune\n",
            "Your answer is correct!\n",
            "Question: What is the planet with recently discovered phosphine gas?\n",
            "venus\n",
            "Your answer is correct!\n",
            "Question: What is the dwarf planet that was once thought of as a planet?\n",
            "pluto\n",
            "Your answer is correct!\n",
            "Question: What is the only planet with confirmed life?\n",
            "earth\n",
            "Your answer is correct!\n",
            "Congratulations, Player!. You got 10 out of 10.\n",
            "You passed the quiz!\n",
            "\n",
            "\n",
            "Thanks for taking the Solar System quiz. See you next time!\n"
          ],
          "name": "stdout"
        }
      ]
    }
  ]
}